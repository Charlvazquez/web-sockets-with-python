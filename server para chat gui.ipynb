{
 "cells": [
  {
   "cell_type": "code",
   "execution_count": 1,
   "metadata": {},
   "outputs": [],
   "source": [
    "import socket\n",
    "import threading"
   ]
  },
  {
   "cell_type": "code",
   "execution_count": null,
   "metadata": {},
   "outputs": [
    {
     "name": "stdout",
     "output_type": "stream",
     "text": [
      "Servidor iniciando.....\n",
      "Conectado con ('127.0.0.1', 59503)!\n",
      "el apodo del cliente es b'cosa:hollaaaaa\\n'\n",
      "Conectado con ('127.0.0.1', 59504)!\n",
      "el apodo del cliente es b'el porongudo:hola\\n\\n'\n",
      "b'cosa:hollaaaaa\\n' says b'cosa:\\xc2\\xbfpuedes ver mi mensaje?\\n'\n",
      "b'el porongudo:hola\\n\\n' says b'el porongudo:si\\n'\n"
     ]
    }
   ],
   "source": [
    "HOST = '127.0.0.12' #ip para server\n",
    "PORT = 9090\n",
    "\n",
    "server = socket.socket(socket.AF_INET, socket.SOCK_STREAM)\n",
    "server.bind((HOST,PORT))\n",
    "\n",
    "server.listen()\n",
    "\n",
    "clients = []\n",
    "nicknames = []\n",
    "\n",
    "#broadcast\n",
    "def broadcast(message):\n",
    "    for client in clients:\n",
    "        client.send(message)\n",
    "        \n",
    "def handle(client):#se crea una funcion para que tome los parametros de los clientes\n",
    "    while True:\n",
    "        try:\n",
    "            message = client.recv(1024)\n",
    "            print(f\"{nicknames[clients.index(client)]} says {message}\")\n",
    "            broadcast(message)\n",
    "        except:\n",
    "            index = clients.index(client)\n",
    "            clients.remove(client)\n",
    "            client.close()\n",
    "            nickname = nicknames[index]\n",
    "            nicknames.remove(nickname)\n",
    "            break\n",
    "\n",
    "        \n",
    "#donde se recibira\n",
    "def receive():\n",
    "    while True:\n",
    "        client, address = server.accept()\n",
    "        print(f\"Conectado con {str(address)}!\")\n",
    "        \n",
    "        client.send(\"NICK\".encode('utf-8'))\n",
    "        nickname = client.recv(1024)\n",
    "        \n",
    "        nicknames.append(nickname)\n",
    "        clients.append(client)\n",
    "        \n",
    "        print(f\"el apodo del cliente es {nickname}\")\n",
    "        broadcast(f\"{nickname} conectado al servidor!\\n\".encode('utf-8'))\n",
    "        client.send(\"Conectado al servidor\".encode('utf-8'))\n",
    "        \n",
    "        thread = threading.Thread(target=handle, args=(client,))\n",
    "        thread.start()\n",
    "\n",
    "print(\"Servidor iniciando.....\")        \n",
    "receive()        \n",
    "        \n",
    "        "
   ]
  },
  {
   "cell_type": "code",
   "execution_count": null,
   "metadata": {},
   "outputs": [],
   "source": []
  }
 ],
 "metadata": {
  "kernelspec": {
   "display_name": "Python 3",
   "language": "python",
   "name": "python3"
  },
  "language_info": {
   "codemirror_mode": {
    "name": "ipython",
    "version": 3
   },
   "file_extension": ".py",
   "mimetype": "text/x-python",
   "name": "python",
   "nbconvert_exporter": "python",
   "pygments_lexer": "ipython3",
   "version": "3.7.6"
  }
 },
 "nbformat": 4,
 "nbformat_minor": 4
}
